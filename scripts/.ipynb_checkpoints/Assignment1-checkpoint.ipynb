{
 "cells": [
  {
   "cell_type": "code",
   "execution_count": 463,
   "metadata": {},
   "outputs": [],
   "source": [
    "# importing libraries\n",
    "import pandas as pd\n",
    "%matplotlib inline\n",
    "import spacy\n",
    "from spacy.attrs import LOWER, POS, ENT_TYPE, IS_ALPHA\n",
    "from spacy.tokens import Doc\n",
    "import numpy\n",
    "from spacy.lang.en import STOP_WORDS"
   ]
  },
  {
   "cell_type": "code",
   "execution_count": 464,
   "metadata": {},
   "outputs": [],
   "source": [
    "#loding data sets\n",
    "nlp = spacy.load('en')\n",
    "data = pd.read_csv('../input/train (3) (1) (3) (2).csv')\n",
    "data_test = pd.read_csv('../input/test (3) (1) (3) (2).csv')\n",
    "data.columns\n",
    "stop = list(STOP_WORDS)"
   ]
  },
  {
   "cell_type": "code",
   "execution_count": 465,
   "metadata": {},
   "outputs": [],
   "source": [
    "#dropping columns\n",
    "data_new = data.drop(['App Version Code', 'App Version Name', 'Review Title'], axis = 1)\n",
    "data_test = data_test.drop(['App Version Code', 'App Version Name', 'Review Title'], axis = 1)"
   ]
  },
  {
   "cell_type": "code",
   "execution_count": 466,
   "metadata": {},
   "outputs": [
    {
     "data": {
      "text/plain": [
       "(1424, 2)"
      ]
     },
     "execution_count": 466,
     "metadata": {},
     "output_type": "execute_result"
    }
   ],
   "source": [
    "# data_new.shape\n",
    "data_test.shape"
   ]
  },
  {
   "cell_type": "code",
   "execution_count": 467,
   "metadata": {},
   "outputs": [
    {
     "name": "stdout",
     "output_type": "stream",
     "text": [
      "<class 'pandas.core.frame.DataFrame'>\n",
      "RangeIndex: 1424 entries, 0 to 1423\n",
      "Data columns (total 2 columns):\n",
      "id             1424 non-null object\n",
      "Review Text    1423 non-null object\n",
      "dtypes: object(2)\n",
      "memory usage: 22.3+ KB\n"
     ]
    }
   ],
   "source": [
    "data_test.info()"
   ]
  },
  {
   "cell_type": "code",
   "execution_count": 468,
   "metadata": {},
   "outputs": [],
   "source": [
    "data_new = data_new.dropna(axis=0)\n",
    "data_test = data_test.dropna(axis=0)"
   ]
  },
  {
   "cell_type": "code",
   "execution_count": 469,
   "metadata": {},
   "outputs": [
    {
     "data": {
      "text/plain": [
       "<matplotlib.axes._subplots.AxesSubplot at 0x7fda882ff240>"
      ]
     },
     "execution_count": 469,
     "metadata": {},
     "output_type": "execute_result"
    },
    {
     "data": {
      "image/png": "[encoded data removed]",
      "text/plain": [
       "<Figure size 432x288 with 1 Axes>"
      ]
     },
     "metadata": {
      "needs_background": "light"
     },
     "output_type": "display_data"
    }
   ],
   "source": [
    "data_new['Star Rating'].value_counts().plot('bar')"
   ]
  },
  {
   "cell_type": "code",
   "execution_count": null,
   "metadata": {},
   "outputs": [],
   "source": []
  },
  {
   "cell_type": "code",
   "execution_count": 470,
   "metadata": {},
   "outputs": [],
   "source": [
    "def word_clean(doc):\n",
    "    doc = doc.lower()\n",
    "    doc = nlp(doc)\n",
    "    words = []\n",
    "    for word in doc:\n",
    "        if word.pos_ not in ('PUNCT', 'NUM', 'SYM'):\n",
    "            words.append(word.lemma_)\n",
    "    \n",
    "    return words\n",
    "            "
   ]
  },
  {
   "cell_type": "code",
   "execution_count": 471,
   "metadata": {},
   "outputs": [],
   "source": [
    "data_new['Review Text'] = data_new['Review Text'].apply(word_clean)\n",
    "data_test['Review Text'] = data_test['Review Text'].apply(word_clean)"
   ]
  },
  {
   "cell_type": "code",
   "execution_count": 472,
   "metadata": {},
   "outputs": [],
   "source": [
    "BOW = []\n",
    "for rev in data_new['Review Text']:\n",
    "    for word in rev:\n",
    "        if word not in BOW:\n",
    "            BOW.append(word)"
   ]
  },
  {
   "cell_type": "code",
   "execution_count": null,
   "metadata": {},
   "outputs": [],
   "source": []
  },
  {
   "cell_type": "code",
   "execution_count": 474,
   "metadata": {},
   "outputs": [],
   "source": [
    "bow_df = pd.DataFrame(columns=BOW, index=data_new['id'])\n",
    "bow_df = bow_df.fillna(0)"
   ]
  },
  {
   "cell_type": "code",
   "execution_count": 475,
   "metadata": {},
   "outputs": [],
   "source": [
    "bow_df_test = pd.DataFrame(columns=BOW, index=data_test['id'])\n",
    "bow_df_test = bow_df_test.fillna(0)"
   ]
  },
  {
   "cell_type": "code",
   "execution_count": 476,
   "metadata": {},
   "outputs": [],
   "source": [
    "for i, doc in enumerate(data_new['Review Text']):\n",
    "    for c in bow_df.columns:\n",
    "        if c in doc:\n",
    "            bow_df[c][i] = 1"
   ]
  },
  {
   "cell_type": "code",
   "execution_count": 477,
   "metadata": {},
   "outputs": [],
   "source": [
    "for i, doc in enumerate(data_test['Review Text']):\n",
    "    for c in bow_df_test.columns:\n",
    "        if c in doc:\n",
    "            bow_df_test[c][i] = 1"
   ]
  },
  {
   "cell_type": "code",
   "execution_count": 478,
   "metadata": {},
   "outputs": [
    {
     "data": {
      "text/plain": [
       "(1423, 4533)"
      ]
     },
     "execution_count": 478,
     "metadata": {},
     "output_type": "execute_result"
    }
   ],
   "source": [
    "# bow_df.to_csv('../output/bow.csv')\n",
    "bow_df_2 = bow_df\n",
    "bow_df_test.shape\n"
   ]
  },
  {
   "cell_type": "code",
   "execution_count": 479,
   "metadata": {},
   "outputs": [],
   "source": [
    "for c in bow_df.columns:\n",
    "    if bow_df[c].sum() < 100:\n",
    "        bow_df_2.drop(c, axis = 1)"
   ]
  },
  {
   "cell_type": "code",
   "execution_count": 480,
   "metadata": {},
   "outputs": [],
   "source": [
    "for c in bow_df_test.columns:\n",
    "    if c not in bow_df_2.columns:\n",
    "        bow_df_test = bow_df_test.drop(c, axis = 1)"
   ]
  },
  {
   "cell_type": "code",
   "execution_count": 483,
   "metadata": {},
   "outputs": [
    {
     "data": {
      "text/plain": [
       "(5692, 4533)"
      ]
     },
     "execution_count": 483,
     "metadata": {},
     "output_type": "execute_result"
    }
   ],
   "source": [
    "bow_df.shape"
   ]
  },
  {
   "cell_type": "code",
   "execution_count": 482,
   "metadata": {},
   "outputs": [
    {
     "data": {
      "text/plain": [
       "(1423, 4533)"
      ]
     },
     "execution_count": 482,
     "metadata": {},
     "output_type": "execute_result"
    }
   ],
   "source": [
    "bow_df_test.shape"
   ]
  },
  {
   "cell_type": "code",
   "execution_count": 484,
   "metadata": {},
   "outputs": [],
   "source": [
    "X = bow_df\n",
    "# bow_df['star_rating'] = data_new['Star Rating']\n",
    "y = data_new['Star Rating']"
   ]
  },
  {
   "cell_type": "code",
   "execution_count": 485,
   "metadata": {},
   "outputs": [],
   "source": [
    "from sklearn.model_selection import train_test_split\n",
    "X_train, X_test, y_train, y_test = train_test_split(X, y, test_size = 0.2, random_state = 100)"
   ]
  },
  {
   "cell_type": "code",
   "execution_count": 486,
   "metadata": {},
   "outputs": [],
   "source": [
    "from sklearn.metrics import precision_score, recall_score, f1_score"
   ]
  },
  {
   "cell_type": "code",
   "execution_count": 487,
   "metadata": {},
   "outputs": [],
   "source": [
    "from sklearn.metrics import confusion_matrix"
   ]
  },
  {
   "cell_type": "code",
   "execution_count": 495,
   "metadata": {},
   "outputs": [],
   "source": [
    "from sklearn.tree import DecisionTreeClassifier"
   ]
  },
  {
   "cell_type": "code",
   "execution_count": 496,
   "metadata": {},
   "outputs": [],
   "source": [
    "dt = DecisionTreeClassifier()"
   ]
  },
  {
   "cell_type": "code",
   "execution_count": 497,
   "metadata": {},
   "outputs": [
    {
     "data": {
      "text/plain": [
       "DecisionTreeClassifier(class_weight=None, criterion='gini', max_depth=None,\n",
       "                       max_features=None, max_leaf_nodes=None,\n",
       "                       min_impurity_decrease=0.0, min_impurity_split=None,\n",
       "                       min_samples_leaf=1, min_samples_split=2,\n",
       "                       min_weight_fraction_leaf=0.0, presort=False,\n",
       "                       random_state=None, splitter='best')"
      ]
     },
     "execution_count": 497,
     "metadata": {},
     "output_type": "execute_result"
    }
   ],
   "source": [
    "dt.fit(X_train, y_train)"
   ]
  },
  {
   "cell_type": "code",
   "execution_count": 498,
   "metadata": {},
   "outputs": [],
   "source": [
    "y_pred = dt.predict(X_test)"
   ]
  },
  {
   "cell_type": "code",
   "execution_count": 499,
   "metadata": {},
   "outputs": [
    {
     "data": {
      "text/plain": [
       "array([[282,  15,  22,  21,  32],\n",
       "       [ 17,   3,   1,   2,   1],\n",
       "       [ 13,   2,   1,   2,  11],\n",
       "       [  9,   1,   6,   9,  39],\n",
       "       [ 36,   6,  19, 101, 488]])"
      ]
     },
     "execution_count": 499,
     "metadata": {},
     "output_type": "execute_result"
    }
   ],
   "source": [
    "confusion_matrix(y_pred, y_test)"
   ]
  },
  {
   "cell_type": "code",
   "execution_count": 500,
   "metadata": {},
   "outputs": [
    {
     "name": "stdout",
     "output_type": "stream",
     "text": [
      "[0.758 0.125 0.034 0.141 0.751]\n",
      "[0.79  0.111 0.02  0.067 0.855]\n",
      "[0.774 0.118 0.026 0.09  0.799]\n"
     ]
    }
   ],
   "source": [
    "print(precision_score(y_test, y_pred, average = None))\n",
    "print(recall_score(y_test, y_pred, average = None))\n",
    "print(f1_score(y_test, y_pred, average = None))"
   ]
  },
  {
   "cell_type": "code",
   "execution_count": 501,
   "metadata": {},
   "outputs": [],
   "source": [
    "y_pred_assig = dt.predict(bow_df_test) "
   ]
  },
  {
   "cell_type": "code",
   "execution_count": 503,
   "metadata": {},
   "outputs": [],
   "source": [
    "bow_df_test['Star Rating'] = list(y_pred_assig)"
   ]
  },
  {
   "cell_type": "code",
   "execution_count": 515,
   "metadata": {},
   "outputs": [],
   "source": [
    "submission_df = pd.DataFrame(index=data_test['id'])"
   ]
  },
  {
   "cell_type": "code",
   "execution_count": 518,
   "metadata": {},
   "outputs": [
    {
     "data": {
      "text/html": [
       "<div>\n",
       "<style scoped>\n",
       "    .dataframe tbody tr th:only-of-type {\n",
       "        vertical-align: middle;\n",
       "    }\n",
       "\n",
       "    .dataframe tbody tr th {\n",
       "        vertical-align: top;\n",
       "    }\n",
       "\n",
       "    .dataframe thead th {\n",
       "        text-align: right;\n",
       "    }\n",
       "</style>\n",
       "<table border=\"1\" class=\"dataframe\">\n",
       "  <thead>\n",
       "    <tr style=\"text-align: right;\">\n",
       "      <th></th>\n",
       "      <th>Star Rating</th>\n",
       "    </tr>\n",
       "    <tr>\n",
       "      <th>id</th>\n",
       "      <th></th>\n",
       "    </tr>\n",
       "  </thead>\n",
       "  <tbody>\n",
       "    <tr>\n",
       "      <th>bdcb3129-afc1-4608-825f-558fe9c17e2b</th>\n",
       "      <td>5</td>\n",
       "    </tr>\n",
       "    <tr>\n",
       "      <th>7518d5c8-5e35-45e2-b29d-cf0996ba9e2f</th>\n",
       "      <td>2</td>\n",
       "    </tr>\n",
       "    <tr>\n",
       "      <th>b21ca913-ba44-471b-91e1-aaf035379a84</th>\n",
       "      <td>5</td>\n",
       "    </tr>\n",
       "    <tr>\n",
       "      <th>beaaa17d-44af-44c8-ba38-24ba54c3b17d</th>\n",
       "      <td>4</td>\n",
       "    </tr>\n",
       "    <tr>\n",
       "      <th>89d8c4f0-6fe0-4389-b1f8-913ba894c0f1</th>\n",
       "      <td>1</td>\n",
       "    </tr>\n",
       "    <tr>\n",
       "      <th>16e57197-186e-44ef-ac4c-6f6a13e787ee</th>\n",
       "      <td>5</td>\n",
       "    </tr>\n",
       "    <tr>\n",
       "      <th>04a33480-0544-433d-af9d-e8c0777cadfb</th>\n",
       "      <td>5</td>\n",
       "    </tr>\n",
       "    <tr>\n",
       "      <th>5a5b705a-e3d8-4424-989c-05d078b6a461</th>\n",
       "      <td>5</td>\n",
       "    </tr>\n",
       "    <tr>\n",
       "      <th>00aad18b-1960-464c-9334-0961a9f1d65c</th>\n",
       "      <td>5</td>\n",
       "    </tr>\n",
       "    <tr>\n",
       "      <th>ce2a2f18-bfba-4430-afc5-be587a190d77</th>\n",
       "      <td>1</td>\n",
       "    </tr>\n",
       "    <tr>\n",
       "      <th>3a2abaa4-42c2-4df4-840d-52ac21f296d6</th>\n",
       "      <td>5</td>\n",
       "    </tr>\n",
       "    <tr>\n",
       "      <th>4db50ec7-89de-4765-b324-b1ef02afe7e8</th>\n",
       "      <td>5</td>\n",
       "    </tr>\n",
       "    <tr>\n",
       "      <th>0c64ee57-c3d7-4dcf-bc46-351e5832f5ff</th>\n",
       "      <td>5</td>\n",
       "    </tr>\n",
       "    <tr>\n",
       "      <th>c94b633c-db13-4723-8192-4010e331bf0c</th>\n",
       "      <td>5</td>\n",
       "    </tr>\n",
       "    <tr>\n",
       "      <th>694c834c-4711-4815-bac1-fbab70deb701</th>\n",
       "      <td>1</td>\n",
       "    </tr>\n",
       "    <tr>\n",
       "      <th>6e8187ff-9601-4327-b33d-83cc79d8745b</th>\n",
       "      <td>5</td>\n",
       "    </tr>\n",
       "    <tr>\n",
       "      <th>cf3ce256-7de3-4691-ac71-12801b0a96bb</th>\n",
       "      <td>1</td>\n",
       "    </tr>\n",
       "    <tr>\n",
       "      <th>6cbca408-e7d6-42be-aaec-bf0aec416325</th>\n",
       "      <td>1</td>\n",
       "    </tr>\n",
       "    <tr>\n",
       "      <th>f4823dc4-d588-43db-942a-8defa02d311b</th>\n",
       "      <td>1</td>\n",
       "    </tr>\n",
       "    <tr>\n",
       "      <th>e08a6211-f8a2-413f-868a-852211bad6d3</th>\n",
       "      <td>5</td>\n",
       "    </tr>\n",
       "    <tr>\n",
       "      <th>ff2f78a0-06aa-4c5f-8a42-34db98dcb6c9</th>\n",
       "      <td>5</td>\n",
       "    </tr>\n",
       "    <tr>\n",
       "      <th>b348b36e-0634-42ca-813b-d3cf49ab3dd9</th>\n",
       "      <td>5</td>\n",
       "    </tr>\n",
       "    <tr>\n",
       "      <th>9513b19e-8080-433b-a48b-48661bc7e44c</th>\n",
       "      <td>1</td>\n",
       "    </tr>\n",
       "    <tr>\n",
       "      <th>ecde28f3-5645-40cc-981f-efe91271197a</th>\n",
       "      <td>1</td>\n",
       "    </tr>\n",
       "    <tr>\n",
       "      <th>f2f45f08-3ec2-42a2-a272-2ae0501a9c65</th>\n",
       "      <td>5</td>\n",
       "    </tr>\n",
       "    <tr>\n",
       "      <th>6c728985-aeac-462c-9bbb-1c6b310c36a5</th>\n",
       "      <td>1</td>\n",
       "    </tr>\n",
       "    <tr>\n",
       "      <th>4fe0b7a3-3d8c-42d2-bc3d-802617b7388e</th>\n",
       "      <td>1</td>\n",
       "    </tr>\n",
       "    <tr>\n",
       "      <th>c16572a1-6d65-4ace-9e03-eccb2351b03e</th>\n",
       "      <td>5</td>\n",
       "    </tr>\n",
       "    <tr>\n",
       "      <th>4bfbb4ff-d4d7-4486-9848-a8c5bfd908af</th>\n",
       "      <td>1</td>\n",
       "    </tr>\n",
       "    <tr>\n",
       "      <th>0205efb9-26f7-45e2-9166-098b0a25176e</th>\n",
       "      <td>1</td>\n",
       "    </tr>\n",
       "    <tr>\n",
       "      <th>...</th>\n",
       "      <td>...</td>\n",
       "    </tr>\n",
       "    <tr>\n",
       "      <th>1dc4365c-e6cc-4f73-beeb-d5ac95817b61</th>\n",
       "      <td>1</td>\n",
       "    </tr>\n",
       "    <tr>\n",
       "      <th>8f9e10f7-d197-4ca6-a1e3-5229aa20f881</th>\n",
       "      <td>5</td>\n",
       "    </tr>\n",
       "    <tr>\n",
       "      <th>43304e71-fccc-4910-b6f1-3ae3bb0fc4a6</th>\n",
       "      <td>1</td>\n",
       "    </tr>\n",
       "    <tr>\n",
       "      <th>14c418aa-1c4b-465f-b518-cab34e41e609</th>\n",
       "      <td>5</td>\n",
       "    </tr>\n",
       "    <tr>\n",
       "      <th>ce8ed196-2d0e-4324-a210-673a8ab00aa2</th>\n",
       "      <td>5</td>\n",
       "    </tr>\n",
       "    <tr>\n",
       "      <th>d21a8c03-e1f8-432a-b214-08c016210de6</th>\n",
       "      <td>1</td>\n",
       "    </tr>\n",
       "    <tr>\n",
       "      <th>17625bb1-1359-43ad-80b7-275d6b6a549e</th>\n",
       "      <td>1</td>\n",
       "    </tr>\n",
       "    <tr>\n",
       "      <th>5f5c2196-4a7c-465f-a91a-be760fe57ed5</th>\n",
       "      <td>5</td>\n",
       "    </tr>\n",
       "    <tr>\n",
       "      <th>cf84eb75-882e-4b55-9075-47de487f6af5</th>\n",
       "      <td>5</td>\n",
       "    </tr>\n",
       "    <tr>\n",
       "      <th>79bc13bd-dd37-40ac-a54d-268c8901ae95</th>\n",
       "      <td>1</td>\n",
       "    </tr>\n",
       "    <tr>\n",
       "      <th>9d004708-b1ab-4d7c-8350-7c46e1b5d4b3</th>\n",
       "      <td>3</td>\n",
       "    </tr>\n",
       "    <tr>\n",
       "      <th>33844910-88a2-4d72-ad36-540372ba3a58</th>\n",
       "      <td>5</td>\n",
       "    </tr>\n",
       "    <tr>\n",
       "      <th>ab56e9e3-2e9f-48be-9353-c2a33a1674f3</th>\n",
       "      <td>5</td>\n",
       "    </tr>\n",
       "    <tr>\n",
       "      <th>ad7126d8-fc52-40fa-930c-61668abf009a</th>\n",
       "      <td>5</td>\n",
       "    </tr>\n",
       "    <tr>\n",
       "      <th>70e80829-30bc-4d0c-87f3-a64a478e7a8a</th>\n",
       "      <td>5</td>\n",
       "    </tr>\n",
       "    <tr>\n",
       "      <th>4abc7ba3-70cc-44e7-be72-88e3c96ee98d</th>\n",
       "      <td>1</td>\n",
       "    </tr>\n",
       "    <tr>\n",
       "      <th>18bf477d-ee05-4141-9e88-5b557c423401</th>\n",
       "      <td>5</td>\n",
       "    </tr>\n",
       "    <tr>\n",
       "      <th>2aeb0113-6f96-44c6-87d1-98edef59374d</th>\n",
       "      <td>5</td>\n",
       "    </tr>\n",
       "    <tr>\n",
       "      <th>88ddeb5e-81d8-41a2-ad5d-a03084971c96</th>\n",
       "      <td>5</td>\n",
       "    </tr>\n",
       "    <tr>\n",
       "      <th>33464858-480e-495f-a367-f56db6094998</th>\n",
       "      <td>5</td>\n",
       "    </tr>\n",
       "    <tr>\n",
       "      <th>c7028857-e2d6-4350-a014-0f5ff50b4d20</th>\n",
       "      <td>5</td>\n",
       "    </tr>\n",
       "    <tr>\n",
       "      <th>33c73fb0-3bbf-4b3d-836d-86bf8ef469ca</th>\n",
       "      <td>5</td>\n",
       "    </tr>\n",
       "    <tr>\n",
       "      <th>27eaac02-3442-45fb-8c3b-5dfacc8cd25d</th>\n",
       "      <td>1</td>\n",
       "    </tr>\n",
       "    <tr>\n",
       "      <th>91f08e60-7c79-4dd3-b358-4fa97ee07b7d</th>\n",
       "      <td>1</td>\n",
       "    </tr>\n",
       "    <tr>\n",
       "      <th>aa7300e7-1bdf-4dba-91aa-aa34c99ba8d9</th>\n",
       "      <td>5</td>\n",
       "    </tr>\n",
       "    <tr>\n",
       "      <th>6f1ab3b4-3bc0-4b8f-bb1f-2242c7d971d1</th>\n",
       "      <td>5</td>\n",
       "    </tr>\n",
       "    <tr>\n",
       "      <th>c1043055-6240-48bc-8bbe-399a83c58d96</th>\n",
       "      <td>5</td>\n",
       "    </tr>\n",
       "    <tr>\n",
       "      <th>a2a7be3d-41ce-472c-9e1e-eca354eedd0f</th>\n",
       "      <td>5</td>\n",
       "    </tr>\n",
       "    <tr>\n",
       "      <th>af96d36d-42a1-4c8a-9e01-6ac1b2fbee5e</th>\n",
       "      <td>1</td>\n",
       "    </tr>\n",
       "    <tr>\n",
       "      <th>0c30ae30-d3c9-4a6d-b6b3-ff17210839f5</th>\n",
       "      <td>1</td>\n",
       "    </tr>\n",
       "  </tbody>\n",
       "</table>\n",
       "<p>1423 rows × 1 columns</p>\n",
       "</div>"
      ],
      "text/plain": [
       "                                      Star Rating\n",
       "id                                               \n",
       "bdcb3129-afc1-4608-825f-558fe9c17e2b            5\n",
       "7518d5c8-5e35-45e2-b29d-cf0996ba9e2f            2\n",
       "b21ca913-ba44-471b-91e1-aaf035379a84            5\n",
       "beaaa17d-44af-44c8-ba38-24ba54c3b17d            4\n",
       "89d8c4f0-6fe0-4389-b1f8-913ba894c0f1            1\n",
       "16e57197-186e-44ef-ac4c-6f6a13e787ee            5\n",
       "04a33480-0544-433d-af9d-e8c0777cadfb            5\n",
       "5a5b705a-e3d8-4424-989c-05d078b6a461            5\n",
       "00aad18b-1960-464c-9334-0961a9f1d65c            5\n",
       "ce2a2f18-bfba-4430-afc5-be587a190d77            1\n",
       "3a2abaa4-42c2-4df4-840d-52ac21f296d6            5\n",
       "4db50ec7-89de-4765-b324-b1ef02afe7e8            5\n",
       "0c64ee57-c3d7-4dcf-bc46-351e5832f5ff            5\n",
       "c94b633c-db13-4723-8192-4010e331bf0c            5\n",
       "694c834c-4711-4815-bac1-fbab70deb701            1\n",
       "6e8187ff-9601-4327-b33d-83cc79d8745b            5\n",
       "cf3ce256-7de3-4691-ac71-12801b0a96bb            1\n",
       "6cbca408-e7d6-42be-aaec-bf0aec416325            1\n",
       "f4823dc4-d588-43db-942a-8defa02d311b            1\n",
       "e08a6211-f8a2-413f-868a-852211bad6d3            5\n",
       "ff2f78a0-06aa-4c5f-8a42-34db98dcb6c9            5\n",
       "b348b36e-0634-42ca-813b-d3cf49ab3dd9            5\n",
       "9513b19e-8080-433b-a48b-48661bc7e44c            1\n",
       "ecde28f3-5645-40cc-981f-efe91271197a            1\n",
       "f2f45f08-3ec2-42a2-a272-2ae0501a9c65            5\n",
       "6c728985-aeac-462c-9bbb-1c6b310c36a5            1\n",
       "4fe0b7a3-3d8c-42d2-bc3d-802617b7388e            1\n",
       "c16572a1-6d65-4ace-9e03-eccb2351b03e            5\n",
       "4bfbb4ff-d4d7-4486-9848-a8c5bfd908af            1\n",
       "0205efb9-26f7-45e2-9166-098b0a25176e            1\n",
       "...                                           ...\n",
       "1dc4365c-e6cc-4f73-beeb-d5ac95817b61            1\n",
       "8f9e10f7-d197-4ca6-a1e3-5229aa20f881            5\n",
       "43304e71-fccc-4910-b6f1-3ae3bb0fc4a6            1\n",
       "14c418aa-1c4b-465f-b518-cab34e41e609            5\n",
       "ce8ed196-2d0e-4324-a210-673a8ab00aa2            5\n",
       "d21a8c03-e1f8-432a-b214-08c016210de6            1\n",
       "17625bb1-1359-43ad-80b7-275d6b6a549e            1\n",
       "5f5c2196-4a7c-465f-a91a-be760fe57ed5            5\n",
       "cf84eb75-882e-4b55-9075-47de487f6af5            5\n",
       "79bc13bd-dd37-40ac-a54d-268c8901ae95            1\n",
       "9d004708-b1ab-4d7c-8350-7c46e1b5d4b3            3\n",
       "33844910-88a2-4d72-ad36-540372ba3a58            5\n",
       "ab56e9e3-2e9f-48be-9353-c2a33a1674f3            5\n",
       "ad7126d8-fc52-40fa-930c-61668abf009a            5\n",
       "70e80829-30bc-4d0c-87f3-a64a478e7a8a            5\n",
       "4abc7ba3-70cc-44e7-be72-88e3c96ee98d            1\n",
       "18bf477d-ee05-4141-9e88-5b557c423401            5\n",
       "2aeb0113-6f96-44c6-87d1-98edef59374d            5\n",
       "88ddeb5e-81d8-41a2-ad5d-a03084971c96            5\n",
       "33464858-480e-495f-a367-f56db6094998            5\n",
       "c7028857-e2d6-4350-a014-0f5ff50b4d20            5\n",
       "33c73fb0-3bbf-4b3d-836d-86bf8ef469ca            5\n",
       "27eaac02-3442-45fb-8c3b-5dfacc8cd25d            1\n",
       "91f08e60-7c79-4dd3-b358-4fa97ee07b7d            1\n",
       "aa7300e7-1bdf-4dba-91aa-aa34c99ba8d9            5\n",
       "6f1ab3b4-3bc0-4b8f-bb1f-2242c7d971d1            5\n",
       "c1043055-6240-48bc-8bbe-399a83c58d96            5\n",
       "a2a7be3d-41ce-472c-9e1e-eca354eedd0f            5\n",
       "af96d36d-42a1-4c8a-9e01-6ac1b2fbee5e            1\n",
       "0c30ae30-d3c9-4a6d-b6b3-ff17210839f5            1\n",
       "\n",
       "[1423 rows x 1 columns]"
      ]
     },
     "execution_count": 518,
     "metadata": {},
     "output_type": "execute_result"
    }
   ],
   "source": [
    "submission_df['Star Rating'] = y_pred_assig\n",
    "submission_df"
   ]
  },
  {
   "cell_type": "code",
   "execution_count": 520,
   "metadata": {},
   "outputs": [],
   "source": [
    "submission_df.to_csv('Submission.csv')"
   ]
  }
 ],
 "metadata": {
  "kernelspec": {
   "display_name": "Python 3",
   "language": "python",
   "name": "python3"
  },
  "language_info": {
   "codemirror_mode": {
    "name": "ipython",
    "version": 3
   },
   "file_extension": ".py",
   "mimetype": "text/x-python",
   "name": "python",
   "nbconvert_exporter": "python",
   "pygments_lexer": "ipython3",
   "version": "3.7.3"
  }
 },
 "nbformat": 4,
 "nbformat_minor": 2
}
